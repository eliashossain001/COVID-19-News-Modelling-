{
 "cells": [
  {
   "cell_type": "code",
   "execution_count": 1,
   "metadata": {},
   "outputs": [],
   "source": [
    "import pandas as pd\n",
    "import pandas as pd\n",
    "import numpy as np\n",
    "from sklearn.model_selection import train_test_split,GridSearchCV\n",
    "from sklearn.metrics import accuracy_score, confusion_matrix, roc_curve, roc_auc_score\n",
    "\n",
    "from sklearn.feature_extraction.text import TfidfVectorizer\n",
    "from sklearn.tree import DecisionTreeClassifier\n",
    "from sklearn.linear_model import LogisticRegression\n",
    "from sklearn.svm import SVC\n",
    "from sklearn.ensemble import RandomForestClassifier\n",
    "from sklearn.neighbors import KNeighborsClassifier\n",
    "from sklearn.naive_bayes import GaussianNB\n",
    "from sklearn.naive_bayes import MultinomialNB\n",
    "from sklearn.metrics import accuracy_score, classification_report, confusion_matrix\n",
    "from sklearn.model_selection import cross_val_score\n",
    "from sklearn.datasets import make_classification\n",
    "from sklearn.ensemble import GradientBoostingClassifier\n",
    "import sklearn\n",
    "from imblearn.combine import SMOTETomek\n",
    "from imblearn.under_sampling import NearMiss\n",
    "from imblearn.over_sampling import RandomOverSampler\n",
    "from sklearn.svm import SVC\n",
    "from sklearn.linear_model import LogisticRegression\n",
    "from sklearn import svm"
   ]
  },
  {
   "cell_type": "code",
   "execution_count": 2,
   "metadata": {},
   "outputs": [],
   "source": [
    "# pip install imblearn"
   ]
  },
  {
   "cell_type": "code",
   "execution_count": 3,
   "metadata": {},
   "outputs": [
    {
     "data": {
      "text/html": [
       "<div>\n",
       "<style scoped>\n",
       "    .dataframe tbody tr th:only-of-type {\n",
       "        vertical-align: middle;\n",
       "    }\n",
       "\n",
       "    .dataframe tbody tr th {\n",
       "        vertical-align: top;\n",
       "    }\n",
       "\n",
       "    .dataframe thead th {\n",
       "        text-align: right;\n",
       "    }\n",
       "</style>\n",
       "<table border=\"1\" class=\"dataframe\">\n",
       "  <thead>\n",
       "    <tr style=\"text-align: right;\">\n",
       "      <th></th>\n",
       "      <th>Unnamed: 0</th>\n",
       "      <th>Sno</th>\n",
       "      <th>Headline</th>\n",
       "      <th>Covid</th>\n",
       "      <th>Sentiment</th>\n",
       "      <th>Covid_punct</th>\n",
       "      <th>clean_covid</th>\n",
       "      <th>clean_covid_v2</th>\n",
       "      <th>clean_covid_v3</th>\n",
       "      <th>clean_covid_v4</th>\n",
       "      <th>clean_covid_v5</th>\n",
       "      <th>clean_covid_v6</th>\n",
       "      <th>covid_token</th>\n",
       "      <th>covid_token_filtered</th>\n",
       "      <th>covid_stemmed</th>\n",
       "      <th>covid_lemmatized</th>\n",
       "    </tr>\n",
       "  </thead>\n",
       "  <tbody>\n",
       "    <tr>\n",
       "      <th>0</th>\n",
       "      <td>0</td>\n",
       "      <td>0</td>\n",
       "      <td>Coronavirus cases reach 2,438 in Rajasthan; 81...</td>\n",
       "      <td>1</td>\n",
       "      <td>0</td>\n",
       "      <td>Coronavirus cases reach  in Rajasthan  patient...</td>\n",
       "      <td>Coronavirus cases reach  in Rajasthan  patient...</td>\n",
       "      <td>Coronavirus cases reach  in Rajasthan  patient...</td>\n",
       "      <td>Coronavirus cases reach  in Rajasthan  patient...</td>\n",
       "      <td>coronavirus cases reach  in rajasthan  patient...</td>\n",
       "      <td>coronavirus cases reach  in rajasthan  patient...</td>\n",
       "      <td>coronavirus cases reach  in rajasthan  patient...</td>\n",
       "      <td>['coronavirus', 'cases', 'reach', 'in', 'rajas...</td>\n",
       "      <td>['coronavirus', 'cases', 'reach', 'rajasthan',...</td>\n",
       "      <td>coronaviru case reach rajasthan patient recov</td>\n",
       "      <td>coronavirus case reach rajasthan patient recover</td>\n",
       "    </tr>\n",
       "    <tr>\n",
       "      <th>1</th>\n",
       "      <td>1</td>\n",
       "      <td>1</td>\n",
       "      <td>Coronavirus cases in Delhi surge to 3,439 afte...</td>\n",
       "      <td>1</td>\n",
       "      <td>0</td>\n",
       "      <td>Coronavirus cases in Delhi surge to  after  ne...</td>\n",
       "      <td>Coronavirus cases in Delhi surge to  after  ne...</td>\n",
       "      <td>Coronavirus cases in Delhi surge to  after  ne...</td>\n",
       "      <td>Coronavirus cases in Delhi surge to  after  ne...</td>\n",
       "      <td>coronavirus cases in delhi surge to  after  ne...</td>\n",
       "      <td>coronavirus cases in delhi surge to  after  ne...</td>\n",
       "      <td>coronavirus cases in delhi surge to  after  ne...</td>\n",
       "      <td>['coronavirus', 'cases', 'in', 'delhi', 'surge...</td>\n",
       "      <td>['coronavirus', 'cases', 'delhi', 'surge', 'ne...</td>\n",
       "      <td>coronaviru case delhi surg new case report today</td>\n",
       "      <td>coronavirus case delhi surge new case reported...</td>\n",
       "    </tr>\n",
       "  </tbody>\n",
       "</table>\n",
       "</div>"
      ],
      "text/plain": [
       "   Unnamed: 0  Sno                                           Headline  Covid  \\\n",
       "0           0    0  Coronavirus cases reach 2,438 in Rajasthan; 81...      1   \n",
       "1           1    1  Coronavirus cases in Delhi surge to 3,439 afte...      1   \n",
       "\n",
       "   Sentiment                                        Covid_punct  \\\n",
       "0          0  Coronavirus cases reach  in Rajasthan  patient...   \n",
       "1          0  Coronavirus cases in Delhi surge to  after  ne...   \n",
       "\n",
       "                                         clean_covid  \\\n",
       "0  Coronavirus cases reach  in Rajasthan  patient...   \n",
       "1  Coronavirus cases in Delhi surge to  after  ne...   \n",
       "\n",
       "                                      clean_covid_v2  \\\n",
       "0  Coronavirus cases reach  in Rajasthan  patient...   \n",
       "1  Coronavirus cases in Delhi surge to  after  ne...   \n",
       "\n",
       "                                      clean_covid_v3  \\\n",
       "0  Coronavirus cases reach  in Rajasthan  patient...   \n",
       "1  Coronavirus cases in Delhi surge to  after  ne...   \n",
       "\n",
       "                                      clean_covid_v4  \\\n",
       "0  coronavirus cases reach  in rajasthan  patient...   \n",
       "1  coronavirus cases in delhi surge to  after  ne...   \n",
       "\n",
       "                                      clean_covid_v5  \\\n",
       "0  coronavirus cases reach  in rajasthan  patient...   \n",
       "1  coronavirus cases in delhi surge to  after  ne...   \n",
       "\n",
       "                                      clean_covid_v6  \\\n",
       "0  coronavirus cases reach  in rajasthan  patient...   \n",
       "1  coronavirus cases in delhi surge to  after  ne...   \n",
       "\n",
       "                                         covid_token  \\\n",
       "0  ['coronavirus', 'cases', 'reach', 'in', 'rajas...   \n",
       "1  ['coronavirus', 'cases', 'in', 'delhi', 'surge...   \n",
       "\n",
       "                                covid_token_filtered  \\\n",
       "0  ['coronavirus', 'cases', 'reach', 'rajasthan',...   \n",
       "1  ['coronavirus', 'cases', 'delhi', 'surge', 'ne...   \n",
       "\n",
       "                                      covid_stemmed  \\\n",
       "0     coronaviru case reach rajasthan patient recov   \n",
       "1  coronaviru case delhi surg new case report today   \n",
       "\n",
       "                                    covid_lemmatized  \n",
       "0   coronavirus case reach rajasthan patient recover  \n",
       "1  coronavirus case delhi surge new case reported...  "
      ]
     },
     "execution_count": 3,
     "metadata": {},
     "output_type": "execute_result"
    }
   ],
   "source": [
    "df= pd.read_csv(\"C:/Users/elias/Desktop/COVID-NEWS/raw_data_v2.csv\")\n",
    "df.head(2)\n"
   ]
  },
  {
   "cell_type": "code",
   "execution_count": 4,
   "metadata": {},
   "outputs": [],
   "source": [
    "X=df.drop('Covid',axis=1)"
   ]
  },
  {
   "cell_type": "code",
   "execution_count": 5,
   "metadata": {},
   "outputs": [],
   "source": [
    "y=df['Covid']"
   ]
  },
  {
   "cell_type": "code",
   "execution_count": 6,
   "metadata": {},
   "outputs": [],
   "source": [
    "from sklearn.feature_extraction.text import CountVectorizer, TfidfVectorizer, HashingVectorizer"
   ]
  },
  {
   "cell_type": "code",
   "execution_count": 7,
   "metadata": {},
   "outputs": [],
   "source": [
    "from sklearn.feature_extraction.text import CountVectorizer\n",
    "cv = CountVectorizer(max_features=3000,ngram_range=(1,3))"
   ]
  },
  {
   "cell_type": "code",
   "execution_count": 8,
   "metadata": {},
   "outputs": [],
   "source": [
    "X = cv.fit_transform(df['covid_lemmatized']).toarray()"
   ]
  },
  {
   "cell_type": "code",
   "execution_count": 9,
   "metadata": {},
   "outputs": [],
   "source": [
    "y=df['Covid']"
   ]
  },
  {
   "cell_type": "code",
   "execution_count": 10,
   "metadata": {},
   "outputs": [],
   "source": [
    "smk_biagram = SMOTETomek(random_state=42)\n",
    "X_v1,Y_v1=smk_biagram.fit_sample(X,y)"
   ]
  },
  {
   "cell_type": "code",
   "execution_count": 11,
   "metadata": {},
   "outputs": [
    {
     "name": "stdout",
     "output_type": "stream",
     "text": [
      "Original dataset shape Counter({1: 3245, 0: 827})\n",
      "Resampled dataset shape Counter({1: 3239, 0: 3239})\n"
     ]
    }
   ],
   "source": [
    "from collections import Counter\n",
    "print('Original dataset shape {}'.format(Counter(y)))\n",
    "print('Resampled dataset shape {}'.format(Counter(Y_v1)))"
   ]
  },
  {
   "cell_type": "code",
   "execution_count": 12,
   "metadata": {},
   "outputs": [],
   "source": [
    "# let's see how well our model perform on this new data\n",
    "x_train,x_test,y_train,y_test = train_test_split(X_v1,Y_v1,test_size = 0.20, random_state= True)"
   ]
  },
  {
   "cell_type": "code",
   "execution_count": 13,
   "metadata": {},
   "outputs": [
    {
     "name": "stdout",
     "output_type": "stream",
     "text": [
      "Decission Tree Classifier\n",
      "              precision    recall  f1-score   support\n",
      "\n",
      "           0       0.92      0.92      0.92       655\n",
      "           1       0.92      0.91      0.92       641\n",
      "\n",
      "    accuracy                           0.92      1296\n",
      "   macro avg       0.92      0.92      0.92      1296\n",
      "weighted avg       0.92      0.92      0.92      1296\n",
      "\n",
      "Random Forest  Classifier\n",
      "              precision    recall  f1-score   support\n",
      "\n",
      "           0       0.91      0.96      0.94       655\n",
      "           1       0.96      0.91      0.93       641\n",
      "\n",
      "    accuracy                           0.93      1296\n",
      "   macro avg       0.94      0.93      0.93      1296\n",
      "weighted avg       0.94      0.93      0.93      1296\n",
      "\n",
      "KNN  Algo\n",
      "              precision    recall  f1-score   support\n",
      "\n",
      "           0       0.58      1.00      0.73       655\n",
      "           1       1.00      0.26      0.41       641\n",
      "\n",
      "    accuracy                           0.63      1296\n",
      "   macro avg       0.79      0.63      0.57      1296\n",
      "weighted avg       0.79      0.63      0.58      1296\n",
      "\n",
      "Multinomial Naive Bias\n",
      "              precision    recall  f1-score   support\n",
      "\n",
      "           0       0.85      0.51      0.63       655\n",
      "           1       0.64      0.91      0.75       641\n",
      "\n",
      "    accuracy                           0.70      1296\n",
      "   macro avg       0.75      0.71      0.69      1296\n",
      "weighted avg       0.75      0.70      0.69      1296\n",
      "\n"
     ]
    }
   ],
   "source": [
    "# Decission Tree Classifier\n",
    "decession_tree = DecisionTreeClassifier()\n",
    "decession_tree.fit(x_train,y_train)\n",
    "y_pred_decession_tree = decession_tree.predict(x_test)\n",
    "print(\"Decission Tree Classifier\")\n",
    "print(classification_report(y_test, y_pred_decession_tree))\n",
    "\n",
    "# Random Forest  Classifier\n",
    "random_forest = RandomForestClassifier()\n",
    "random_forest.fit(x_train,y_train)\n",
    "y_pred_random_forest = random_forest.predict(x_test)\n",
    "print(\"Random Forest  Classifier\")\n",
    "print(classification_report(y_test, y_pred_random_forest))\n",
    "\n",
    "\n",
    "# KNN  Algo\n",
    "knn_classifier = KNeighborsClassifier()\n",
    "knn_classifier.fit(x_train,y_train)\n",
    "y_pred_knn_classifier = knn_classifier.predict(x_test)\n",
    "print(\"KNN  Algo\")\n",
    "print(classification_report(y_test, y_pred_knn_classifier))\n",
    "\n",
    "\n",
    "# Multinomial Naive Bias\n",
    "mulNB = MultinomialNB()\n",
    "mulNB.fit(x_train,y_train)\n",
    "y_pred_mulNB = mulNB.predict(x_test)\n",
    "print(\"Multinomial Naive Bias\")\n",
    "print(classification_report(y_test, y_pred_mulNB))"
   ]
  },
  {
   "cell_type": "code",
   "execution_count": 14,
   "metadata": {},
   "outputs": [
    {
     "name": "stdout",
     "output_type": "stream",
     "text": [
      "GradientBosting  Algo\n",
      "              precision    recall  f1-score   support\n",
      "\n",
      "           0       0.83      0.98      0.90       655\n",
      "           1       0.97      0.80      0.88       641\n",
      "\n",
      "    accuracy                           0.89      1296\n",
      "   macro avg       0.90      0.89      0.89      1296\n",
      "weighted avg       0.90      0.89      0.89      1296\n",
      "\n",
      "Logistic Reg  Algo\n",
      "              precision    recall  f1-score   support\n",
      "\n",
      "           0       0.90      0.96      0.93       655\n",
      "           1       0.96      0.90      0.93       641\n",
      "\n",
      "    accuracy                           0.93      1296\n",
      "   macro avg       0.93      0.93      0.93      1296\n",
      "weighted avg       0.93      0.93      0.93      1296\n",
      "\n"
     ]
    }
   ],
   "source": [
    "# Gradient bossting\n",
    "gradient_bossting = GradientBoostingClassifier(random_state=3)\n",
    "gradient_bossting.fit(x_train,y_train)\n",
    "y_pred_gradientbossting = gradient_bossting.predict(x_test)\n",
    "print(\"GradientBosting  Algo\")\n",
    "print(classification_report(y_test, y_pred_gradientbossting))\n",
    "\n",
    "\n",
    "# # SVM\n",
    "# svm_class = svm.SVC(kernel='poly',probability=True)\n",
    "# svm_class.fit(x_train,y_train)\n",
    "# y_pred_svm = svm_class.predict(x_test)\n",
    "# print(\"SVM  Algo\")\n",
    "# print(classification_report(y_test, y_pred_svm))\n",
    "\n",
    "\n",
    "# Logistic Regressor\n",
    "logis_reg =LogisticRegression()\n",
    "logis_reg.fit(x_train,y_train)\n",
    "y_pred_log = logis_reg.predict(x_test)\n",
    "print(\"Logistic Reg  Algo\")\n",
    "print(classification_report(y_test, y_pred_log))"
   ]
  },
  {
   "cell_type": "code",
   "execution_count": 15,
   "metadata": {},
   "outputs": [
    {
     "name": "stdout",
     "output_type": "stream",
     "text": [
      "accuracy:   0.931\n"
     ]
    }
   ],
   "source": [
    "# PAC \n",
    "from sklearn.linear_model import PassiveAggressiveClassifier\n",
    "from sklearn import metrics\n",
    "linear_clf = PassiveAggressiveClassifier(max_iter=1000, random_state=0,tol=1e-3)\n",
    "\n",
    "linear_clf.fit(x_train, y_train)\n",
    "pred = linear_clf.predict(x_test)\n",
    "score = metrics.accuracy_score(y_test, pred)\n",
    "print(\"accuracy:   %0.3f\" % score)\n",
    "# cm = metrics.confusion_matrix(y_test, pred)\n",
    "# plot_confusion_matrix(cm, classes=['FAKE Data', 'REAL Data'])\n"
   ]
  },
  {
   "cell_type": "code",
   "execution_count": 16,
   "metadata": {},
   "outputs": [
    {
     "name": "stdout",
     "output_type": "stream",
     "text": [
      "Classification Report:\n",
      "               precision    recall  f1-score   support\n",
      "\n",
      "           0       0.91      0.95      0.93       655\n",
      "           1       0.95      0.91      0.93       641\n",
      "\n",
      "    accuracy                           0.93      1296\n",
      "   macro avg       0.93      0.93      0.93      1296\n",
      "weighted avg       0.93      0.93      0.93      1296\n",
      "\n",
      "Confusion Matrix:\n",
      " [[624  31]\n",
      " [ 59 582]]\n",
      "Accuracy Score: 0.9305555555555556\n",
      "Precision: 0.9494290375203915\n",
      "Recall: 0.9079563182527302\n"
     ]
    }
   ],
   "source": [
    "pac_predictions = linear_clf.predict(x_test)\n",
    "print('Classification Report:\\n',classification_report(y_test, pac_predictions))\n",
    "\n",
    "print('Confusion Matrix:\\n',confusion_matrix(y_test, pac_predictions))\n",
    "print('Accuracy Score:',accuracy_score(y_test, pac_predictions))\n",
    "print(\"Precision:\",metrics.precision_score(y_test, pac_predictions))\n",
    "print(\"Recall:\",metrics.recall_score(y_test,pac_predictions ))"
   ]
  }
 ],
 "metadata": {
  "kernelspec": {
   "display_name": "Python 3",
   "language": "python",
   "name": "python3"
  },
  "language_info": {
   "codemirror_mode": {
    "name": "ipython",
    "version": 3
   },
   "file_extension": ".py",
   "mimetype": "text/x-python",
   "name": "python",
   "nbconvert_exporter": "python",
   "pygments_lexer": "ipython3",
   "version": "3.8.3"
  }
 },
 "nbformat": 4,
 "nbformat_minor": 4
}
